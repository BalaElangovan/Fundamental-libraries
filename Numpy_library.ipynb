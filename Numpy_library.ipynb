{
 "cells": [
  {
   "cell_type": "code",
   "execution_count": 1,
   "id": "721c4cfd",
   "metadata": {},
   "outputs": [],
   "source": [
    "import numpy as np"
   ]
  },
  {
   "cell_type": "code",
   "execution_count": 2,
   "id": "8acd8e09",
   "metadata": {},
   "outputs": [
    {
     "name": "stdout",
     "output_type": "stream",
     "text": [
      "[ 1  4  5 23 51]\n"
     ]
    }
   ],
   "source": [
    "a = np.array([1,4,5,23,51], dtype='int32')\n",
    "print(a)"
   ]
  },
  {
   "cell_type": "code",
   "execution_count": 3,
   "id": "b18d78e3",
   "metadata": {},
   "outputs": [
    {
     "name": "stdout",
     "output_type": "stream",
     "text": [
      "[[ 1 43 56 53 12 64]\n",
      " [ 1  4  5 23 51 23]]\n"
     ]
    }
   ],
   "source": [
    "b = np.array([[1,43,56,53,12,64],[1,4,5,23,51,23]])\n",
    "print(b)"
   ]
  },
  {
   "cell_type": "code",
   "execution_count": 4,
   "id": "db07f3b3",
   "metadata": {},
   "outputs": [
    {
     "name": "stdout",
     "output_type": "stream",
     "text": [
      "Dimensions: 2\n"
     ]
    }
   ],
   "source": [
    "print(\"Dimensions:\", b.ndim)"
   ]
  },
  {
   "cell_type": "code",
   "execution_count": 5,
   "id": "e7675ab6",
   "metadata": {},
   "outputs": [
    {
     "name": "stdout",
     "output_type": "stream",
     "text": [
      "size: 12 bytes\n"
     ]
    }
   ],
   "source": [
    "print(\"size:\", b.size, \"bytes\")"
   ]
  },
  {
   "cell_type": "code",
   "execution_count": 6,
   "id": "72b76960",
   "metadata": {},
   "outputs": [
    {
     "name": "stdout",
     "output_type": "stream",
     "text": [
      "shape: (2, 6)\n"
     ]
    }
   ],
   "source": [
    "print(\"shape:\", b.shape)"
   ]
  },
  {
   "cell_type": "code",
   "execution_count": 7,
   "id": "67d148a1",
   "metadata": {},
   "outputs": [
    {
     "name": "stdout",
     "output_type": "stream",
     "text": [
      "type: int32\n"
     ]
    }
   ],
   "source": [
    "print(\"type:\", b.dtype)"
   ]
  },
  {
   "cell_type": "code",
   "execution_count": 8,
   "id": "a18063cf",
   "metadata": {},
   "outputs": [
    {
     "name": "stdout",
     "output_type": "stream",
     "text": [
      "total size: 48\n"
     ]
    }
   ],
   "source": [
    "print(\"total size:\", b.size*b.itemsize)"
   ]
  },
  {
   "cell_type": "code",
   "execution_count": 9,
   "id": "1f4d2000",
   "metadata": {},
   "outputs": [
    {
     "name": "stdout",
     "output_type": "stream",
     "text": [
      "4\n",
      "4\n"
     ]
    }
   ],
   "source": [
    "print(a.itemsize)\n",
    "print(b.itemsize)"
   ]
  },
  {
   "cell_type": "code",
   "execution_count": 10,
   "id": "aa52835a",
   "metadata": {},
   "outputs": [
    {
     "name": "stdout",
     "output_type": "stream",
     "text": [
      "Total Size: 48\n"
     ]
    }
   ],
   "source": [
    "print(\"Total Size:\", b.nbytes)"
   ]
  },
  {
   "cell_type": "markdown",
   "id": "d52c087b",
   "metadata": {},
   "source": [
    "## Accesing/Changing "
   ]
  },
  {
   "cell_type": "code",
   "execution_count": 12,
   "id": "cbfc9c1e",
   "metadata": {},
   "outputs": [
    {
     "name": "stdout",
     "output_type": "stream",
     "text": [
      "[[ 1  3  4  5  6]\n",
      " [ 1 75 34 53  2]]\n"
     ]
    }
   ],
   "source": [
    "x = np.array([[1,3,4,5,6],[1,75,34,53,2]])\n",
    "print(x)"
   ]
  },
  {
   "cell_type": "code",
   "execution_count": 13,
   "id": "9bac42fe",
   "metadata": {},
   "outputs": [
    {
     "data": {
      "text/plain": [
       "75"
      ]
     },
     "execution_count": 13,
     "metadata": {},
     "output_type": "execute_result"
    }
   ],
   "source": [
    "x[1,1] #[r,c]"
   ]
  },
  {
   "cell_type": "code",
   "execution_count": 14,
   "id": "3d48eaf6",
   "metadata": {},
   "outputs": [
    {
     "data": {
      "text/plain": [
       "array([1, 3, 4, 5, 6])"
      ]
     },
     "execution_count": 14,
     "metadata": {},
     "output_type": "execute_result"
    }
   ],
   "source": [
    "x[0,:] #Getting specific row"
   ]
  },
  {
   "cell_type": "code",
   "execution_count": 15,
   "id": "58ef6d0c",
   "metadata": {},
   "outputs": [
    {
     "data": {
      "text/plain": [
       "array([ 1, 75, 34, 53,  2])"
      ]
     },
     "execution_count": 15,
     "metadata": {},
     "output_type": "execute_result"
    }
   ],
   "source": [
    "x[1,:]"
   ]
  },
  {
   "cell_type": "code",
   "execution_count": 16,
   "id": "c7a4e63b",
   "metadata": {},
   "outputs": [
    {
     "data": {
      "text/plain": [
       "array([ 1, 75, 34])"
      ]
     },
     "execution_count": 16,
     "metadata": {},
     "output_type": "execute_result"
    }
   ],
   "source": [
    "x[1,0:3]"
   ]
  },
  {
   "cell_type": "code",
   "execution_count": 17,
   "id": "136146e9",
   "metadata": {},
   "outputs": [
    {
     "data": {
      "text/plain": [
       "array([ 5, 53])"
      ]
     },
     "execution_count": 17,
     "metadata": {},
     "output_type": "execute_result"
    }
   ],
   "source": [
    "x[:,3] #getting specific column"
   ]
  },
  {
   "cell_type": "code",
   "execution_count": 19,
   "id": "fdf37c22",
   "metadata": {},
   "outputs": [
    {
     "name": "stdout",
     "output_type": "stream",
     "text": [
      "[ 1  4  5 23 51]\n"
     ]
    }
   ],
   "source": [
    "x[1,2]=30\n",
    "print(a)"
   ]
  },
  {
   "cell_type": "code",
   "execution_count": 31,
   "id": "b3fbb69c",
   "metadata": {},
   "outputs": [
    {
     "name": "stdout",
     "output_type": "stream",
     "text": [
      "[[[1 2]\n",
      "  [2 3]]\n",
      "\n",
      " [[3 4]\n",
      "  [5 6]]]\n"
     ]
    }
   ],
   "source": [
    "a = np.array([[[1,2],[2,3]],[[3,4],[5,6]]])\n",
    "print(a)"
   ]
  },
  {
   "cell_type": "code",
   "execution_count": 35,
   "id": "cdf6467b",
   "metadata": {},
   "outputs": [
    {
     "data": {
      "text/plain": [
       "array([[1, 2],\n",
       "       [3, 4]])"
      ]
     },
     "execution_count": 35,
     "metadata": {},
     "output_type": "execute_result"
    }
   ],
   "source": [
    "a[:,0,:] #getting specific element"
   ]
  },
  {
   "cell_type": "code",
   "execution_count": 36,
   "id": "7100ba33",
   "metadata": {},
   "outputs": [
    {
     "data": {
      "text/plain": [
       "array([[2, 3],\n",
       "       [5, 6]])"
      ]
     },
     "execution_count": 36,
     "metadata": {},
     "output_type": "execute_result"
    }
   ],
   "source": [
    "a[:,1,:] #getting specific element"
   ]
  },
  {
   "cell_type": "code",
   "execution_count": 37,
   "id": "217fab08",
   "metadata": {},
   "outputs": [],
   "source": [
    "a[:,1,:] = [[2,4],[7,8]] #Replacing the element"
   ]
  },
  {
   "cell_type": "code",
   "execution_count": 38,
   "id": "1b76a05a",
   "metadata": {},
   "outputs": [
    {
     "name": "stdout",
     "output_type": "stream",
     "text": [
      "[[[1 2]\n",
      "  [2 4]]\n",
      "\n",
      " [[3 4]\n",
      "  [7 8]]]\n"
     ]
    }
   ],
   "source": [
    "print(a)"
   ]
  },
  {
   "cell_type": "markdown",
   "id": "14b9f8e8",
   "metadata": {},
   "source": [
    "## Initializing arrays"
   ]
  },
  {
   "cell_type": "code",
   "execution_count": 43,
   "id": "38f27519",
   "metadata": {},
   "outputs": [
    {
     "data": {
      "text/plain": [
       "array([[0., 0., 0.],\n",
       "       [0., 0., 0.]])"
      ]
     },
     "execution_count": 43,
     "metadata": {},
     "output_type": "execute_result"
    }
   ],
   "source": [
    "np.zeros((2,3))"
   ]
  },
  {
   "cell_type": "code",
   "execution_count": 46,
   "id": "e99ec686",
   "metadata": {},
   "outputs": [
    {
     "data": {
      "text/plain": [
       "array([[[1, 1],\n",
       "        [1, 1],\n",
       "        [1, 1]],\n",
       "\n",
       "       [[1, 1],\n",
       "        [1, 1],\n",
       "        [1, 1]]])"
      ]
     },
     "execution_count": 46,
     "metadata": {},
     "output_type": "execute_result"
    }
   ],
   "source": [
    "np.ones((2,3,2), dtype='int32')"
   ]
  },
  {
   "cell_type": "code",
   "execution_count": 47,
   "id": "fa632828",
   "metadata": {},
   "outputs": [
    {
     "data": {
      "text/plain": [
       "array([[100, 100],\n",
       "       [100, 100]])"
      ]
     },
     "execution_count": 47,
     "metadata": {},
     "output_type": "execute_result"
    }
   ],
   "source": [
    "np.full((2,2),100)"
   ]
  },
  {
   "cell_type": "code",
   "execution_count": 48,
   "id": "5c959f05",
   "metadata": {},
   "outputs": [
    {
     "data": {
      "text/plain": [
       "array([[98, 98, 98],\n",
       "       [98, 98, 98],\n",
       "       [98, 98, 98]])"
      ]
     },
     "execution_count": 48,
     "metadata": {},
     "output_type": "execute_result"
    }
   ],
   "source": [
    "np.full((3,3),98) #Fill up values"
   ]
  },
  {
   "cell_type": "code",
   "execution_count": 49,
   "id": "ad2e9604",
   "metadata": {},
   "outputs": [
    {
     "data": {
      "text/plain": [
       "array([[4, 4, 4, 4, 4],\n",
       "       [4, 4, 4, 4, 4]])"
      ]
     },
     "execution_count": 49,
     "metadata": {},
     "output_type": "execute_result"
    }
   ],
   "source": [
    "np.full((x.shape),4)"
   ]
  },
  {
   "cell_type": "code",
   "execution_count": 53,
   "id": "f17fc8c2",
   "metadata": {},
   "outputs": [
    {
     "data": {
      "text/plain": [
       "array([[0.72381668, 0.88006208],\n",
       "       [0.10971311, 0.70796181],\n",
       "       [0.25716143, 0.07664738],\n",
       "       [0.44183936, 0.20867469]])"
      ]
     },
     "execution_count": 53,
     "metadata": {},
     "output_type": "execute_result"
    }
   ],
   "source": [
    "np.random.rand(4,2) #Random Decimalnumbers"
   ]
  },
  {
   "cell_type": "code",
   "execution_count": 52,
   "id": "d298dcab",
   "metadata": {},
   "outputs": [
    {
     "data": {
      "text/plain": [
       "array([[0.39159625, 0.58038769, 0.95531318, 0.01886136, 0.16446541],\n",
       "       [0.48543568, 0.01505652, 0.61011043, 0.27179915, 0.82221523]])"
      ]
     },
     "execution_count": 52,
     "metadata": {},
     "output_type": "execute_result"
    }
   ],
   "source": [
    "np.random.random_sample(x.shape) #To fill shape"
   ]
  },
  {
   "cell_type": "code",
   "execution_count": 63,
   "id": "d6b5e997",
   "metadata": {},
   "outputs": [
    {
     "data": {
      "text/plain": [
       "array([[8, 5, 9],\n",
       "       [5, 6, 8],\n",
       "       [7, 6, 6]])"
      ]
     },
     "execution_count": 63,
     "metadata": {},
     "output_type": "execute_result"
    }
   ],
   "source": [
    "np.random.randint(10, size=(3,3)) #Random integer values"
   ]
  },
  {
   "cell_type": "code",
   "execution_count": 65,
   "id": "537d7538",
   "metadata": {},
   "outputs": [
    {
     "data": {
      "text/plain": [
       "array([[9, 9, 6],\n",
       "       [6, 9, 7],\n",
       "       [6, 5, 6]])"
      ]
     },
     "execution_count": 65,
     "metadata": {},
     "output_type": "execute_result"
    }
   ],
   "source": [
    "np.random.randint(5,10, size=(3,3)) #(number or range, size)"
   ]
  },
  {
   "cell_type": "code",
   "execution_count": 68,
   "id": "7ff44491",
   "metadata": {},
   "outputs": [
    {
     "data": {
      "text/plain": [
       "array([[1., 0., 0.],\n",
       "       [0., 1., 0.],\n",
       "       [0., 0., 1.]])"
      ]
     },
     "execution_count": 68,
     "metadata": {},
     "output_type": "execute_result"
    }
   ],
   "source": [
    "np.identity(3) #Identity matrix"
   ]
  },
  {
   "cell_type": "code",
   "execution_count": 79,
   "id": "cf01e78c",
   "metadata": {},
   "outputs": [
    {
     "name": "stdout",
     "output_type": "stream",
     "text": [
      "[1 1 1 2 2 2 3 3 3]\n"
     ]
    }
   ],
   "source": [
    "arr = np.array([[1,2,3]]) #To repeat an array\n",
    "r1 = np.repeat(arr,3)\n",
    "print(r1)"
   ]
  },
  {
   "cell_type": "code",
   "execution_count": 78,
   "id": "de853b11",
   "metadata": {},
   "outputs": [
    {
     "name": "stdout",
     "output_type": "stream",
     "text": [
      "[[1 2 3]\n",
      " [1 2 3]\n",
      " [1 2 3]]\n"
     ]
    }
   ],
   "source": [
    "arr = np.array([[1,2,3]])\n",
    "r1 = np.repeat(arr,3,axis=0)\n",
    "print(r1)"
   ]
  },
  {
   "cell_type": "markdown",
   "id": "115315fb",
   "metadata": {},
   "source": [
    "## Puzzle Problem"
   ]
  },
  {
   "cell_type": "code",
   "execution_count": 100,
   "id": "3f58eb29",
   "metadata": {},
   "outputs": [
    {
     "name": "stdout",
     "output_type": "stream",
     "text": [
      "Initial array: \n",
      " [[1. 1. 1. 1. 1.]\n",
      " [1. 1. 1. 1. 1.]\n",
      " [1. 1. 1. 1. 1.]\n",
      " [1. 1. 1. 1. 1.]\n",
      " [1. 1. 1. 1. 1.]]\n",
      "\n",
      "Second array: \n",
      " [[0. 0. 0.]\n",
      " [0. 0. 0.]\n",
      " [0. 0. 0.]]\n",
      "\n",
      " After Changes:\n",
      " [[0. 0. 0.]\n",
      " [0. 9. 0.]\n",
      " [0. 0. 0.]]\n"
     ]
    }
   ],
   "source": [
    "q = np.ones((5,5))\n",
    "print(\"Initial array: \\n\",q)\n",
    "\n",
    "w = np.zeros((3,3))\n",
    "print(\"\\nSecond array: \\n\",w)\n",
    "\n",
    "w[1,1] = 9\n",
    "print(\"\\n After Changes:\\n\",w)"
   ]
  },
  {
   "cell_type": "code",
   "execution_count": 101,
   "id": "149ce1fe",
   "metadata": {},
   "outputs": [
    {
     "name": "stdout",
     "output_type": "stream",
     "text": [
      "Final Output: \n",
      " [[1. 1. 1. 1. 1.]\n",
      " [1. 0. 0. 0. 1.]\n",
      " [1. 0. 9. 0. 1.]\n",
      " [1. 0. 0. 0. 1.]\n",
      " [1. 1. 1. 1. 1.]]\n"
     ]
    }
   ],
   "source": [
    "q[1:4,1:4] = w\n",
    "print(\"Final Output: \\n\",q)"
   ]
  },
  {
   "cell_type": "code",
   "execution_count": 111,
   "id": "feb59821",
   "metadata": {},
   "outputs": [
    {
     "name": "stdout",
     "output_type": "stream",
     "text": [
      "[1 2 3]\n"
     ]
    }
   ],
   "source": [
    "p = np.array([1,2,3]) #Careful with Copying Arrays\n",
    "o = p.copy()\n",
    "o[0] = 100\n",
    "print(p)"
   ]
  },
  {
   "cell_type": "markdown",
   "id": "187834fd",
   "metadata": {},
   "source": [
    "## Mathematics"
   ]
  },
  {
   "cell_type": "code",
   "execution_count": 127,
   "id": "a8b40c0d",
   "metadata": {},
   "outputs": [
    {
     "name": "stdout",
     "output_type": "stream",
     "text": [
      "[1 2 3]\n"
     ]
    }
   ],
   "source": [
    "a1 = np.array([1,2,3])\n",
    "print(a1)"
   ]
  },
  {
   "cell_type": "code",
   "execution_count": 128,
   "id": "4f513991",
   "metadata": {},
   "outputs": [
    {
     "data": {
      "text/plain": [
       "array([3, 4, 5])"
      ]
     },
     "execution_count": 128,
     "metadata": {},
     "output_type": "execute_result"
    }
   ],
   "source": [
    "a1 + 2 #adding"
   ]
  },
  {
   "cell_type": "code",
   "execution_count": 116,
   "id": "8ac3ef01",
   "metadata": {},
   "outputs": [
    {
     "data": {
      "text/plain": [
       "array([0, 1, 2])"
      ]
     },
     "execution_count": 116,
     "metadata": {},
     "output_type": "execute_result"
    }
   ],
   "source": [
    "a1 - 1 #subtracting"
   ]
  },
  {
   "cell_type": "code",
   "execution_count": 117,
   "id": "17af31dd",
   "metadata": {},
   "outputs": [
    {
     "data": {
      "text/plain": [
       "array([2, 4, 6])"
      ]
     },
     "execution_count": 117,
     "metadata": {},
     "output_type": "execute_result"
    }
   ],
   "source": [
    "a1 * 2"
   ]
  },
  {
   "cell_type": "code",
   "execution_count": 129,
   "id": "5e247b1e",
   "metadata": {},
   "outputs": [
    {
     "name": "stdout",
     "output_type": "stream",
     "text": [
      "[2 2 3]\n"
     ]
    }
   ],
   "source": [
    "b1 = np.array([2,2,3])\n",
    "print(b1)"
   ]
  },
  {
   "cell_type": "code",
   "execution_count": 130,
   "id": "3bdbe8d4",
   "metadata": {},
   "outputs": [
    {
     "data": {
      "text/plain": [
       "array([3, 4, 6])"
      ]
     },
     "execution_count": 130,
     "metadata": {},
     "output_type": "execute_result"
    }
   ],
   "source": [
    "a1 + b1"
   ]
  },
  {
   "cell_type": "code",
   "execution_count": 131,
   "id": "71263678",
   "metadata": {},
   "outputs": [
    {
     "data": {
      "text/plain": [
       "array([1, 4, 9])"
      ]
     },
     "execution_count": 131,
     "metadata": {},
     "output_type": "execute_result"
    }
   ],
   "source": [
    "a1 ** 2"
   ]
  },
  {
   "cell_type": "code",
   "execution_count": 132,
   "id": "03cabb9f",
   "metadata": {},
   "outputs": [
    {
     "data": {
      "text/plain": [
       "array([0.84147098, 0.90929743, 0.14112001])"
      ]
     },
     "execution_count": 132,
     "metadata": {},
     "output_type": "execute_result"
    }
   ],
   "source": [
    "np.sin(a1) #Sin values"
   ]
  },
  {
   "cell_type": "code",
   "execution_count": 133,
   "id": "e327fb0a",
   "metadata": {},
   "outputs": [
    {
     "data": {
      "text/plain": [
       "array([-0.41614684, -0.41614684, -0.9899925 ])"
      ]
     },
     "execution_count": 133,
     "metadata": {},
     "output_type": "execute_result"
    }
   ],
   "source": [
    "np.cos(b1) #cos values"
   ]
  },
  {
   "cell_type": "markdown",
   "id": "0d98e4a3",
   "metadata": {},
   "source": [
    "## Linear Algebra"
   ]
  },
  {
   "cell_type": "code",
   "execution_count": 139,
   "id": "efc0524a",
   "metadata": {},
   "outputs": [
    {
     "name": "stdout",
     "output_type": "stream",
     "text": [
      "[[1. 1. 1. 1.]\n",
      " [1. 1. 1. 1.]]\n",
      "[[3 3]\n",
      " [3 3]\n",
      " [3 3]\n",
      " [3 3]]\n"
     ]
    },
    {
     "data": {
      "text/plain": [
       "array([[12., 12.],\n",
       "       [12., 12.]])"
      ]
     },
     "execution_count": 139,
     "metadata": {},
     "output_type": "execute_result"
    }
   ],
   "source": [
    "a2 = np.ones((2,4)) #Matrix multiplication #no. of col(1st matrix) = no of row (2nd matrix)\n",
    "b2 = np.full((4,2),3)\n",
    "print(a2)\n",
    "print(b2)\n",
    "\n",
    "np.matmul(a2,b2)"
   ]
  },
  {
   "cell_type": "code",
   "execution_count": 140,
   "id": "9d3e0462",
   "metadata": {},
   "outputs": [
    {
     "name": "stdout",
     "output_type": "stream",
     "text": [
      "[[1. 0. 0.]\n",
      " [0. 1. 0.]\n",
      " [0. 0. 1.]]\n"
     ]
    }
   ],
   "source": [
    "c = np.identity(3) #identity matrix\n",
    "print(c)"
   ]
  },
  {
   "cell_type": "code",
   "execution_count": 141,
   "id": "7b11300c",
   "metadata": {},
   "outputs": [
    {
     "data": {
      "text/plain": [
       "1.0"
      ]
     },
     "execution_count": 141,
     "metadata": {},
     "output_type": "execute_result"
    }
   ],
   "source": [
    "np.linalg.det(c) #Determinant"
   ]
  },
  {
   "cell_type": "code",
   "execution_count": 143,
   "id": "7659dd80",
   "metadata": {},
   "outputs": [
    {
     "data": {
      "text/plain": [
       "array([-1., -4.])"
      ]
     },
     "execution_count": 143,
     "metadata": {},
     "output_type": "execute_result"
    }
   ],
   "source": [
    "l = np.array([[[1,2],[2,3]],[[2,3],[6,7]]])\n",
    "np.linalg.det(l)"
   ]
  },
  {
   "cell_type": "code",
   "execution_count": 146,
   "id": "cb65c4e2",
   "metadata": {},
   "outputs": [
    {
     "data": {
      "text/plain": [
       "array([[[-3.  ,  2.  ],\n",
       "        [ 2.  , -1.  ]],\n",
       "\n",
       "       [[-1.75,  0.75],\n",
       "        [ 1.5 , -0.5 ]]])"
      ]
     },
     "execution_count": 146,
     "metadata": {},
     "output_type": "execute_result"
    }
   ],
   "source": [
    "np.linalg.inv(l) #Inverse matrix"
   ]
  },
  {
   "cell_type": "markdown",
   "id": "09a2a824",
   "metadata": {},
   "source": [
    "## Statistics"
   ]
  },
  {
   "cell_type": "code",
   "execution_count": 168,
   "id": "92aa6ccf",
   "metadata": {},
   "outputs": [
    {
     "name": "stdout",
     "output_type": "stream",
     "text": [
      "[[1 1 2]\n",
      " [2 3 7]]\n"
     ]
    }
   ],
   "source": [
    "stats = np.array([[1,1,2],[2,3,7]])\n",
    "print(stats)"
   ]
  },
  {
   "cell_type": "code",
   "execution_count": 169,
   "id": "d6553fa8",
   "metadata": {},
   "outputs": [
    {
     "data": {
      "text/plain": [
       "array([1, 2])"
      ]
     },
     "execution_count": 169,
     "metadata": {},
     "output_type": "execute_result"
    }
   ],
   "source": [
    "np.min(stats, axis=1) #minimum #axis=1 specifies min of first row and then second row"
   ]
  },
  {
   "cell_type": "code",
   "execution_count": 170,
   "id": "2fdd037c",
   "metadata": {},
   "outputs": [
    {
     "data": {
      "text/plain": [
       "array([2, 7])"
      ]
     },
     "execution_count": 170,
     "metadata": {},
     "output_type": "execute_result"
    }
   ],
   "source": [
    "np.max(stats, axis=1) #maximum"
   ]
  },
  {
   "cell_type": "code",
   "execution_count": 172,
   "id": "fac788ab",
   "metadata": {},
   "outputs": [
    {
     "data": {
      "text/plain": [
       "array([3, 4, 9])"
      ]
     },
     "execution_count": 172,
     "metadata": {},
     "output_type": "execute_result"
    }
   ],
   "source": [
    "np.sum(stats , axis =0) #Adding all elements"
   ]
  },
  {
   "cell_type": "markdown",
   "id": "200989b9",
   "metadata": {},
   "source": [
    "## Reorganizing arrays"
   ]
  },
  {
   "cell_type": "code",
   "execution_count": 181,
   "id": "9f548ede",
   "metadata": {},
   "outputs": [
    {
     "data": {
      "text/plain": [
       "array([[1, 4, 6, 5],\n",
       "       [5, 4, 2, 9]])"
      ]
     },
     "execution_count": 181,
     "metadata": {},
     "output_type": "execute_result"
    }
   ],
   "source": [
    "before = np.array([[1,4,6,5],[5,4,2,9]])\n",
    "before"
   ]
  },
  {
   "cell_type": "code",
   "execution_count": 182,
   "id": "a3fb5c29",
   "metadata": {},
   "outputs": [
    {
     "data": {
      "text/plain": [
       "array([[1],\n",
       "       [4],\n",
       "       [6],\n",
       "       [5],\n",
       "       [5],\n",
       "       [4],\n",
       "       [2],\n",
       "       [9]])"
      ]
     },
     "execution_count": 182,
     "metadata": {},
     "output_type": "execute_result"
    }
   ],
   "source": [
    "after = before.reshape((8,1)) #reshaping the array\n",
    "after"
   ]
  },
  {
   "cell_type": "code",
   "execution_count": 183,
   "id": "157008dd",
   "metadata": {},
   "outputs": [
    {
     "data": {
      "text/plain": [
       "array([[[1, 4],\n",
       "        [6, 5]],\n",
       "\n",
       "       [[5, 4],\n",
       "        [2, 9]]])"
      ]
     },
     "execution_count": 183,
     "metadata": {},
     "output_type": "execute_result"
    }
   ],
   "source": [
    "after = before.reshape((2,2,2))\n",
    "after"
   ]
  },
  {
   "cell_type": "code",
   "execution_count": 186,
   "id": "436af0c6",
   "metadata": {},
   "outputs": [
    {
     "data": {
      "text/plain": [
       "array([[1, 2, 3, 4],\n",
       "       [5, 6, 7, 8],\n",
       "       [5, 6, 7, 8],\n",
       "       [5, 6, 7, 8]])"
      ]
     },
     "execution_count": 186,
     "metadata": {},
     "output_type": "execute_result"
    }
   ],
   "source": [
    "v1 = np.array([1,2,3,4]) #Vetical Stacking\n",
    "v2 = np.array([5,6,7,8])\n",
    "\n",
    "np.vstack([v1,v2,v2,v2])"
   ]
  },
  {
   "cell_type": "code",
   "execution_count": 190,
   "id": "ea059f45",
   "metadata": {},
   "outputs": [
    {
     "data": {
      "text/plain": [
       "array([1, 2, 3, 4, 5, 6, 7, 8, 5, 6, 7, 8, 1, 2, 3, 4, 5, 6, 7, 8])"
      ]
     },
     "execution_count": 190,
     "metadata": {},
     "output_type": "execute_result"
    }
   ],
   "source": [
    "np.hstack([v1,v2,v2,v1,v2]) #Horizontal Stacking"
   ]
  },
  {
   "cell_type": "code",
   "execution_count": 193,
   "id": "5956792e",
   "metadata": {},
   "outputs": [
    {
     "data": {
      "text/plain": [
       "array([[0., 0., 0., 1., 1., 1., 1.],\n",
       "       [0., 0., 0., 1., 1., 1., 1.]])"
      ]
     },
     "execution_count": 193,
     "metadata": {},
     "output_type": "execute_result"
    }
   ],
   "source": [
    "h1 = np.zeros((2,3))\n",
    "h2 = np.ones((2,4))\n",
    "\n",
    "np.hstack([h1,h2])"
   ]
  },
  {
   "cell_type": "code",
   "execution_count": 199,
   "id": "ebd90e3a",
   "metadata": {},
   "outputs": [
    {
     "data": {
      "text/plain": [
       "array([[1., 2., 3., 4., 5.],\n",
       "       [6., 7., 8., 9., 0.],\n",
       "       [1., 4., 6., 3., 8.]])"
      ]
     },
     "execution_count": 199,
     "metadata": {},
     "output_type": "execute_result"
    }
   ],
   "source": [
    "filedata = np.genfromtxt('demo.txt',delimiter=',') #Getting values from text file\n",
    "filedata"
   ]
  },
  {
   "cell_type": "code",
   "execution_count": 202,
   "id": "b4012b2d",
   "metadata": {},
   "outputs": [
    {
     "data": {
      "text/plain": [
       "array([[1, 2, 3, 4, 5],\n",
       "       [6, 7, 8, 9, 0],\n",
       "       [1, 4, 6, 3, 8]])"
      ]
     },
     "execution_count": 202,
     "metadata": {},
     "output_type": "execute_result"
    }
   ],
   "source": [
    "filedata.astype('int32') #to change into integer"
   ]
  },
  {
   "cell_type": "code",
   "execution_count": 205,
   "id": "8e29c134",
   "metadata": {},
   "outputs": [
    {
     "data": {
      "text/plain": [
       "array([[False, False, False, False, False],\n",
       "       [ True,  True,  True,  True, False],\n",
       "       [False, False,  True, False,  True]])"
      ]
     },
     "execution_count": 205,
     "metadata": {},
     "output_type": "execute_result"
    }
   ],
   "source": [
    "filedata > 5 "
   ]
  },
  {
   "cell_type": "code",
   "execution_count": 207,
   "id": "c2bcfccc",
   "metadata": {},
   "outputs": [
    {
     "data": {
      "text/plain": [
       "array([6., 7., 8., 9., 6., 8.])"
      ]
     },
     "execution_count": 207,
     "metadata": {},
     "output_type": "execute_result"
    }
   ],
   "source": [
    "filedata[filedata > 5] #Getting values greater than 5"
   ]
  },
  {
   "cell_type": "code",
   "execution_count": 209,
   "id": "6465683f",
   "metadata": {},
   "outputs": [
    {
     "data": {
      "text/plain": [
       "array([2, 4, 6])"
      ]
     },
     "execution_count": 209,
     "metadata": {},
     "output_type": "execute_result"
    }
   ],
   "source": [
    "a4 = np.array([1,2,3,4,5,6]) #getting values from array\n",
    "a4[[1,3,5]]"
   ]
  },
  {
   "cell_type": "code",
   "execution_count": null,
   "id": "9a6f53d5",
   "metadata": {},
   "outputs": [],
   "source": [
    "a[2:4,0:2]\n",
    "a[[0,1,2,3],[1,2,3,4]]\n",
    "a[[0,4,5],3:]"
   ]
  }
 ],
 "metadata": {
  "kernelspec": {
   "display_name": "Python 3 (ipykernel)",
   "language": "python",
   "name": "python3"
  },
  "language_info": {
   "codemirror_mode": {
    "name": "ipython",
    "version": 3
   },
   "file_extension": ".py",
   "mimetype": "text/x-python",
   "name": "python",
   "nbconvert_exporter": "python",
   "pygments_lexer": "ipython3",
   "version": "3.10.9"
  }
 },
 "nbformat": 4,
 "nbformat_minor": 5
}
